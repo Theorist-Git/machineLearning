{
 "cells": [
  {
   "cell_type": "code",
   "execution_count": 15,
   "id": "758bc277-cce8-4719-afcb-1437285e3318",
   "metadata": {},
   "outputs": [],
   "source": [
    "import pandas as pd\n",
    "import seaborn as sns\n",
    "import matplotlib.pyplot as plt\n",
    "import numpy as np"
   ]
  },
  {
   "cell_type": "code",
   "execution_count": 16,
   "id": "8e6c4402-9d95-4089-8781-c41ea286502d",
   "metadata": {},
   "outputs": [
    {
     "data": {
      "text/html": [
       "<div>\n",
       "<style scoped>\n",
       "    .dataframe tbody tr th:only-of-type {\n",
       "        vertical-align: middle;\n",
       "    }\n",
       "\n",
       "    .dataframe tbody tr th {\n",
       "        vertical-align: top;\n",
       "    }\n",
       "\n",
       "    .dataframe thead th {\n",
       "        text-align: right;\n",
       "    }\n",
       "</style>\n",
       "<table border=\"1\" class=\"dataframe\">\n",
       "  <thead>\n",
       "    <tr style=\"text-align: right;\">\n",
       "      <th></th>\n",
       "      <th>age</th>\n",
       "      <th>gender</th>\n",
       "      <th>fever</th>\n",
       "      <th>cough</th>\n",
       "      <th>city</th>\n",
       "      <th>has_covid</th>\n",
       "    </tr>\n",
       "  </thead>\n",
       "  <tbody>\n",
       "    <tr>\n",
       "      <th>13</th>\n",
       "      <td>64</td>\n",
       "      <td>Male</td>\n",
       "      <td>102.0</td>\n",
       "      <td>Mild</td>\n",
       "      <td>Bangalore</td>\n",
       "      <td>Yes</td>\n",
       "    </tr>\n",
       "  </tbody>\n",
       "</table>\n",
       "</div>"
      ],
      "text/plain": [
       "    age gender  fever cough       city has_covid\n",
       "13   64   Male  102.0  Mild  Bangalore       Yes"
      ]
     },
     "execution_count": 16,
     "metadata": {},
     "output_type": "execute_result"
    }
   ],
   "source": [
    "df = pd.read_csv(\"../datasets/covid_toy.csv\")\n",
    "df.sample()"
   ]
  },
  {
   "cell_type": "code",
   "execution_count": 17,
   "id": "ce0b4cac-f55d-477f-9ffb-a7848595c6b9",
   "metadata": {},
   "outputs": [],
   "source": [
    "from sklearn.preprocessing import OneHotEncoder, OrdinalEncoder\n",
    "from sklearn.impute import SimpleImputer"
   ]
  },
  {
   "cell_type": "code",
   "execution_count": 18,
   "id": "a389bdb1-4fd0-4c2a-9019-074f53e1d411",
   "metadata": {},
   "outputs": [
    {
     "data": {
      "text/plain": [
       "age           0\n",
       "gender        0\n",
       "fever        10\n",
       "cough         0\n",
       "city          0\n",
       "has_covid     0\n",
       "dtype: int64"
      ]
     },
     "execution_count": 18,
     "metadata": {},
     "output_type": "execute_result"
    }
   ],
   "source": [
    "df.isna().sum()"
   ]
  },
  {
   "cell_type": "code",
   "execution_count": 19,
   "id": "d0722dbf-af4e-4688-897b-e32782bb1998",
   "metadata": {},
   "outputs": [
    {
     "data": {
      "text/plain": [
       "cough\n",
       "Mild      62\n",
       "Strong    38\n",
       "Name: count, dtype: int64"
      ]
     },
     "execution_count": 19,
     "metadata": {},
     "output_type": "execute_result"
    }
   ],
   "source": [
    "df[\"cough\"].value_counts()"
   ]
  },
  {
   "cell_type": "code",
   "execution_count": 20,
   "id": "480120b1-1bbf-42c5-b4f1-a2a2ceb665b6",
   "metadata": {},
   "outputs": [],
   "source": [
    "from sklearn.model_selection import train_test_split\n",
    "\n",
    "X_train , X_test, y_train, y_test = train_test_split(\n",
    "    df.drop(columns=[\"has_covid\"]),\n",
    "    df[\"has_covid\"],\n",
    "    train_size=0.7,\n",
    "    random_state=42\n",
    ")"
   ]
  },
  {
   "cell_type": "markdown",
   "id": "d01dac02-3845-49b7-a987-2c3ca13adbc0",
   "metadata": {},
   "source": [
    "### Without Column transformer"
   ]
  },
  {
   "cell_type": "code",
   "execution_count": 21,
   "id": "918d829a-a8a5-4ae1-b3ab-434fb1378ccf",
   "metadata": {},
   "outputs": [
    {
     "data": {
      "text/plain": [
       "(70, 1)"
      ]
     },
     "execution_count": 21,
     "metadata": {},
     "output_type": "execute_result"
    }
   ],
   "source": [
    "si = SimpleImputer()\n",
    "\n",
    "X_train_fever = si.fit_transform(X_train[[\"fever\"]])\n",
    "X_test_fever = si.transform(X_test[[\"fever\"]])\n",
    "\n",
    "X_train_fever.shape"
   ]
  },
  {
   "cell_type": "code",
   "execution_count": 24,
   "id": "ce1a96aa-c4f6-49a6-bed3-939fc7a792d5",
   "metadata": {},
   "outputs": [
    {
     "data": {
      "text/plain": [
       "(70, 1)"
      ]
     },
     "execution_count": 24,
     "metadata": {},
     "output_type": "execute_result"
    }
   ],
   "source": [
    "oe = OrdinalEncoder(categories=[[\"Mild\", \"Strong\"]])\n",
    "\n",
    "X_train_cough = oe.fit_transform(X_train[[\"cough\"]])\n",
    "X_test_cough = oe.transform(X_test[[\"cough\"]])\n",
    "\n",
    "X_train_cough.shape"
   ]
  },
  {
   "cell_type": "code",
   "execution_count": 30,
   "id": "f8337817-92b9-49d4-a35d-1956e5bfcb9e",
   "metadata": {},
   "outputs": [],
   "source": [
    "ohe = OneHotEncoder(drop=\"first\", sparse_output=False)\n",
    "X_train_gender_city = ohe.fit_transform(X_train[[\"gender\", \"city\"]])\n",
    "X_test_gender_city = ohe.transform(X_test[[\"gender\", \"city\"]])"
   ]
  },
  {
   "cell_type": "code",
   "execution_count": 31,
   "id": "ce97a692-c1e4-40c0-a53f-ef6d547663be",
   "metadata": {},
   "outputs": [
    {
     "data": {
      "text/plain": [
       "(70, 4)"
      ]
     },
     "execution_count": 31,
     "metadata": {},
     "output_type": "execute_result"
    }
   ],
   "source": [
    "X_train_gender_city.shape"
   ]
  },
  {
   "cell_type": "code",
   "execution_count": 56,
   "id": "ca3cc273-6ff3-400b-8f00-355b24caec4b",
   "metadata": {},
   "outputs": [
    {
     "data": {
      "text/plain": [
       "(70, 1)"
      ]
     },
     "execution_count": 56,
     "metadata": {},
     "output_type": "execute_result"
    }
   ],
   "source": [
    "X_train_age = X_train.drop(columns=[\"gender\", \"fever\", \"cough\", \"city\"]).values\n",
    "X_test_age = X_test.drop(columns=[\"gender\", \"fever\", \"cough\", \"city\"]).values\n",
    "X_train_age.shape"
   ]
  },
  {
   "cell_type": "code",
   "execution_count": 59,
   "id": "26254e98-d0b1-4372-a06d-4bb1ceb17a1d",
   "metadata": {},
   "outputs": [],
   "source": [
    "X_train_tr = np.concatenate((X_train_age, X_train_fever, X_train_gender_city, X_train_cough), axis=1)\n",
    "X_test_tr = np.concatenate((X_test_age, X_test_fever, X_test_gender_city, X_test_cough), axis=1)"
   ]
  },
  {
   "cell_type": "code",
   "execution_count": 62,
   "id": "e63be1d0-1b8e-4a56-8bdd-7c8589fe1ed9",
   "metadata": {},
   "outputs": [
    {
     "data": {
      "text/plain": [
       "(70, 7)"
      ]
     },
     "execution_count": 62,
     "metadata": {},
     "output_type": "execute_result"
    }
   ],
   "source": [
    "X_train_tr.shape"
   ]
  },
  {
   "cell_type": "markdown",
   "id": "cb74131e-c3fd-48f1-a7a8-3ef751263dc6",
   "metadata": {},
   "source": [
    "### Column Tranformer"
   ]
  },
  {
   "cell_type": "code",
   "execution_count": 63,
   "id": "0f2a94c0-ca46-489e-bfcd-e305751771b4",
   "metadata": {},
   "outputs": [],
   "source": [
    "from sklearn.compose import ColumnTransformer"
   ]
  },
  {
   "cell_type": "code",
   "execution_count": 64,
   "id": "2e9ac1a6-bab0-4e54-99b6-13f45f3ce73b",
   "metadata": {},
   "outputs": [],
   "source": [
    "transformer = ColumnTransformer(transformers=[\n",
    "    # Name            # Transformer Class                               # Column to be applied on\n",
    "    (\"SimpleImputer\", SimpleImputer()                                 , [\"fever\"]),\n",
    "    (\"Nominal\"      , OneHotEncoder(drop=\"first\", sparse_output=False), [\"gender\", \"city\"]),\n",
    "    (\"Ordinal\"      , OrdinalEncoder(categories=[[\"Mild\", \"Strong\"]]) , [\"cough\"]),\n",
    "], remainder =\"passthrough\" )"
   ]
  },
  {
   "cell_type": "code",
   "execution_count": 69,
   "id": "06830c14-a955-40ee-a162-4eed81337cc0",
   "metadata": {},
   "outputs": [
    {
     "data": {
      "text/plain": [
       "(70, 7)"
      ]
     },
     "execution_count": 69,
     "metadata": {},
     "output_type": "execute_result"
    }
   ],
   "source": [
    "X_train_tr = transformer.fit_transform(X_train)\n",
    "X_train_tr.shape"
   ]
  },
  {
   "cell_type": "code",
   "execution_count": 70,
   "id": "dab9d2d1-5531-4651-99e7-ad85c9fedd29",
   "metadata": {},
   "outputs": [],
   "source": [
    "X_test_tr = transformer.transform(X_test)"
   ]
  },
  {
   "cell_type": "code",
   "execution_count": 71,
   "id": "243b9f3a-2bf9-4e1a-86d7-36196419b092",
   "metadata": {},
   "outputs": [
    {
     "data": {
      "text/plain": [
       "(30, 7)"
      ]
     },
     "execution_count": 71,
     "metadata": {},
     "output_type": "execute_result"
    }
   ],
   "source": [
    "X_test_tr.shape"
   ]
  },
  {
   "cell_type": "code",
   "execution_count": null,
   "id": "2ad88363-e733-4263-ab86-fbd06f0d6cff",
   "metadata": {},
   "outputs": [],
   "source": []
  }
 ],
 "metadata": {
  "kernelspec": {
   "display_name": "ML-venv",
   "language": "python",
   "name": "ml-venv"
  },
  "language_info": {
   "codemirror_mode": {
    "name": "ipython",
    "version": 3
   },
   "file_extension": ".py",
   "mimetype": "text/x-python",
   "name": "python",
   "nbconvert_exporter": "python",
   "pygments_lexer": "ipython3",
   "version": "3.10.12"
  }
 },
 "nbformat": 4,
 "nbformat_minor": 5
}
