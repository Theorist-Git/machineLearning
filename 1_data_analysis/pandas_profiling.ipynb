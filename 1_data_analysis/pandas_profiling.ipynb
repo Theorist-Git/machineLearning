{
 "cells": [
  {
   "cell_type": "code",
   "execution_count": 6,
   "id": "9a8a22d3-839e-456d-9185-bd38da34b5af",
   "metadata": {},
   "outputs": [],
   "source": [
    "from ydata_profiling import ProfileReport\n",
    "import pandas as pd"
   ]
  },
  {
   "cell_type": "code",
   "execution_count": 7,
   "id": "e99d142b-e65a-417f-a7dd-dd18e4c36cd1",
   "metadata": {},
   "outputs": [],
   "source": [
    "df = pd.read_csv(\"../datasets/titanic.csv\")"
   ]
  },
  {
   "cell_type": "code",
   "execution_count": 8,
   "id": "6dc2a0a8-f889-4326-abca-bea6cdeb8d57",
   "metadata": {},
   "outputs": [
    {
     "name": "stderr",
     "output_type": "stream",
     "text": [
      "Summarize dataset: 100%|█████████████| 47/47 [00:01<00:00, 23.51it/s, Completed]\n",
      "Generate report structure: 100%|██████████████████| 1/1 [00:02<00:00,  2.07s/it]\n",
      "Render HTML: 100%|████████████████████████████████| 1/1 [00:00<00:00,  1.21it/s]\n",
      "Export report to file: 100%|█████████████████████| 1/1 [00:00<00:00, 170.32it/s]\n"
     ]
    }
   ],
   "source": [
    "prof = ProfileReport(df)\n",
    "prof.to_file(output_file=\"output.html\")"
   ]
  },
  {
   "cell_type": "code",
   "execution_count": null,
   "id": "11dcbef7-f027-4bee-be24-d33ebbd4e0d8",
   "metadata": {},
   "outputs": [],
   "source": []
  }
 ],
 "metadata": {
  "kernelspec": {
   "display_name": "ML-venv",
   "language": "python",
   "name": "ml-venv"
  },
  "language_info": {
   "codemirror_mode": {
    "name": "ipython",
    "version": 3
   },
   "file_extension": ".py",
   "mimetype": "text/x-python",
   "name": "python",
   "nbconvert_exporter": "python",
   "pygments_lexer": "ipython3",
   "version": "3.10.12"
  }
 },
 "nbformat": 4,
 "nbformat_minor": 5
}
