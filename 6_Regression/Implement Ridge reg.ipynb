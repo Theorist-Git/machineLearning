{
 "cells": [
  {
   "cell_type": "code",
   "execution_count": 179,
   "id": "716733f6-8be9-4cf5-bd56-173249b9b9f4",
   "metadata": {},
   "outputs": [],
   "source": [
    "import numpy as np\n",
    "from sklearn.datasets import load_diabetes\n",
    "\n",
    "from sklearn.model_selection import train_test_split\n",
    "import matplotlib.pyplot as plt\n",
    "\n",
    "from sklearn.linear_model import Ridge"
   ]
  },
  {
   "cell_type": "code",
   "execution_count": 180,
   "id": "52ff33a7-df18-4fbc-aeb0-b5624efee549",
   "metadata": {},
   "outputs": [],
   "source": [
    "import numpy as np\n",
    "\n",
    "class simpleRidgeRegression:\n",
    "\n",
    "    def __init__(self, alpha: np.float64 = 1.0):\n",
    "        self.alpha_                 = alpha\n",
    "        self.coef_: np.float64      = None\n",
    "        self.intercept_: np.float64 = None \n",
    "\n",
    "    def fit(self, X, y):\n",
    "\n",
    "        covariance_matrix = np.cov(X_train.ravel(), y_train, bias=True)\n",
    "        cov_X_y = covariance_matrix[0, 1]\n",
    "        var_X = covariance_matrix[0, 0]\n",
    "        \n",
    "        self.coef_      = ( cov_X_y ) / ( var_X + (2 * self.alpha_) )\n",
    "        self.intercept_ =  np.mean(y) - self.coef_ * np.mean(X)\n",
    "\n",
    "        return self\n",
    "\n",
    "    def predict(self, X):\n",
    "\n",
    "        return self.coef_ * X + self.intercept_\n",
    "\n",
    "    def score(self, X_test, y_test, method: str = None):\n",
    "        y_pred = self.predict(X_test).ravel()\n",
    "        \n",
    "        assert(y_pred.shape == y_test.shape)\n",
    "\n",
    "        ss_total = np.sum((y_test - np.mean(y_test)) ** 2)\n",
    "        ss_residual = np.sum((y_test - y_pred) ** 2)\n",
    "\n",
    "        R2 = 1 - (ss_residual / ss_total)\n",
    "        n  = X_test.shape[0]\n",
    "        k  = 1\n",
    "\n",
    "        if method == \"adj\":\n",
    "            return 1 - ( (1 - R2) * (n - 1) / (n - 1 - k) )\n",
    "        \n",
    "        return 1 - (ss_residual / ss_total)"
   ]
  },
  {
   "cell_type": "code",
   "execution_count": 181,
   "id": "aec45382-6811-447b-9d5f-1f6f2ac899db",
   "metadata": {},
   "outputs": [],
   "source": [
    "from sklearn.datasets import make_regression\n",
    "\n",
    "X, y = make_regression(n_samples=1000, n_features=1, n_informative=1, n_targets=1, noise=5, random_state=42)"
   ]
  },
  {
   "cell_type": "code",
   "execution_count": 182,
   "id": "fbb20aac-60b6-483d-9f57-e1f8cdb66fdd",
   "metadata": {},
   "outputs": [],
   "source": [
    "X_train, X_test, y_train, y_test = train_test_split(\n",
    "    X,\n",
    "    y,\n",
    "    train_size=0.8,\n",
    "    random_state=13\n",
    ")"
   ]
  },
  {
   "cell_type": "code",
   "execution_count": 183,
   "id": "63972d9a-625f-498a-a420-74270666f7ce",
   "metadata": {},
   "outputs": [],
   "source": [
    "ALPHA = 1\n",
    "N = X_train.shape[0]"
   ]
  },
  {
   "cell_type": "code",
   "execution_count": 184,
   "id": "cba97c53-8648-4ad1-8210-8498b2c3d9ec",
   "metadata": {},
   "outputs": [],
   "source": [
    "l2_norm_sk = Ridge(alpha=ALPHA * 2 * N)\n",
    "l2_norm_me = simpleRidgeRegression(alpha=ALPHA)"
   ]
  },
  {
   "cell_type": "code",
   "execution_count": 185,
   "id": "fd97c6e4-fbd6-401f-9d2b-3475813e1f45",
   "metadata": {},
   "outputs": [
    {
     "data": {
      "text/plain": [
       "<__main__.simpleRidgeRegression at 0x72760cf8a290>"
      ]
     },
     "execution_count": 185,
     "metadata": {},
     "output_type": "execute_result"
    }
   ],
   "source": [
    "l2_norm_sk.fit(X_train, y_train)\n",
    "l2_norm_me.fit(X_train, y_train)"
   ]
  },
  {
   "cell_type": "code",
   "execution_count": 186,
   "id": "f654136c-ec2f-44a8-b5e0-47100aac3778",
   "metadata": {},
   "outputs": [
    {
     "data": {
      "text/plain": [
       "(0.4836123235651363, np.float64(0.48361232356513617))"
      ]
     },
     "execution_count": 186,
     "metadata": {},
     "output_type": "execute_result"
    }
   ],
   "source": [
    "l2_norm_sk.score(X_test, y_test), l2_norm_me.score(X_test, y_test)"
   ]
  },
  {
   "cell_type": "code",
   "execution_count": 187,
   "id": "31bb3c7e-8029-41ea-abfe-15ae8c06ab26",
   "metadata": {},
   "outputs": [
    {
     "data": {
      "text/plain": [
       "800"
      ]
     },
     "execution_count": 187,
     "metadata": {},
     "output_type": "execute_result"
    }
   ],
   "source": [
    "X_train.shape[0]"
   ]
  },
  {
   "cell_type": "markdown",
   "id": "8cd5cf12-79f2-4ba6-97f4-61e0ec79fa6f",
   "metadata": {},
   "source": [
    "# Multiple features (vectorised)"
   ]
  },
  {
   "cell_type": "code",
   "execution_count": 278,
   "id": "c789ac1a-9b17-43cf-b90c-476bb1f0b054",
   "metadata": {},
   "outputs": [],
   "source": [
    "X, y = make_regression(n_samples=1000, n_features=1, n_informative=1, n_targets=1, noise=5, random_state=42)"
   ]
  },
  {
   "cell_type": "code",
   "execution_count": 297,
   "id": "edb5250c-6b55-4bd7-bc59-72b0ec475956",
   "metadata": {},
   "outputs": [],
   "source": [
    "import numpy as np\n",
    "\n",
    "class RidgeRegression:\n",
    "\n",
    "    def __init__(self, alpha: np.float64 = 1.0, l2_norm_intercept=False):\n",
    "        self.alpha_                  = alpha\n",
    "        self.coef_: np.array         = None\n",
    "        self.intercept_: np.float64  = None \n",
    "        self.l2_norm_intercept: bool = l2_norm_intercept\n",
    "\n",
    "    def fit(self, X_train, y_train):\n",
    "\n",
    "        X_train  = np.insert(X_train, obj=0, values=1, axis=1)\n",
    "        \n",
    "        XTX      = np.dot( X_train.T, X_train )\n",
    "        \n",
    "        IDENTITY = np.eye(XTX.shape[0])\n",
    "\n",
    "        if not self.l2_norm_intercept:\n",
    "            IDENTITY[0][0] = 0\n",
    "\n",
    "        BETA = np.linalg.inv( XTX + IDENTITY * self.alpha_) . dot(X_train.T) . dot(y_train)\n",
    "        self.intercept_ = BETA[0]\n",
    "        self.coef_      = BETA[1:]\n",
    "\n",
    "        return self\n",
    "\n",
    "    def predict(self, X):\n",
    "\n",
    "        return np.dot(X_test, self.coef_) + self.intercept_\n",
    "\n",
    "    def score(self, X_test, y_test, method: str = None):\n",
    "        y_pred = self.predict(X_test)\n",
    "\n",
    "        assert(y_pred.shape == y_test.shape)\n",
    "        \n",
    "        ss_total = np.sum((y_test - np.mean(y_test)) ** 2)\n",
    "        ss_residual = np.sum((y_test - y_pred) ** 2)\n",
    "\n",
    "        R2 = 1 - (ss_residual / ss_total)\n",
    "        n, k = X_test.shape\n",
    "\n",
    "        if method == \"adj\":\n",
    "            return 1 - ( (1 - R2) * (n - 1) / (n - 1 - k) )\n",
    "\n",
    "        return 1 - (ss_residual / ss_total)"
   ]
  },
  {
   "cell_type": "code",
   "execution_count": 280,
   "id": "dd3233a0-20de-4050-b83d-3e37a12c20dd",
   "metadata": {},
   "outputs": [],
   "source": [
    "X_train, X_test, y_train, y_test = train_test_split(\n",
    "    X,\n",
    "    y,\n",
    "    train_size=0.8,\n",
    "    random_state=13\n",
    ")"
   ]
  },
  {
   "cell_type": "code",
   "execution_count": 285,
   "id": "6a4a293c-27e1-426f-857a-7679fa7cc29f",
   "metadata": {},
   "outputs": [],
   "source": [
    "ALPHA = 50000"
   ]
  },
  {
   "cell_type": "code",
   "execution_count": 286,
   "id": "122eec18-1a1d-4cd8-a177-374dca22ccec",
   "metadata": {},
   "outputs": [],
   "source": [
    "l2_norm_sk_m = Ridge(alpha=ALPHA)\n",
    "l2_norm_me_m = RidgeRegression(alpha=ALPHA)"
   ]
  },
  {
   "cell_type": "code",
   "execution_count": 287,
   "id": "b01ed009-f758-4cac-b16d-a29461c9d908",
   "metadata": {},
   "outputs": [
    {
     "data": {
      "text/plain": [
       "<__main__.RidgeRegression at 0x72760ceb9210>"
      ]
     },
     "execution_count": 287,
     "metadata": {},
     "output_type": "execute_result"
    }
   ],
   "source": [
    "l2_norm_sk_m.fit(X_train, y_train)\n",
    "l2_norm_me_m.fit(X_train, y_train)"
   ]
  },
  {
   "cell_type": "code",
   "execution_count": 288,
   "id": "44802f1c-85a4-4c9e-a1c2-7e7efc454900",
   "metadata": {},
   "outputs": [
    {
     "data": {
      "text/plain": [
       "(0.02489623774280103, np.float64(0.02489623774280103))"
      ]
     },
     "execution_count": 288,
     "metadata": {},
     "output_type": "execute_result"
    }
   ],
   "source": [
    "l2_norm_sk_m.score(X_test, y_test), l2_norm_me_m.score(X_test, y_test)"
   ]
  },
  {
   "cell_type": "code",
   "execution_count": 289,
   "id": "73a27307-2124-456d-bc9f-4cb1fa7417d4",
   "metadata": {},
   "outputs": [],
   "source": [
    "from sklearn.datasets import load_iris"
   ]
  },
  {
   "cell_type": "code",
   "execution_count": 290,
   "id": "32a64dc7-f89a-4e8a-9020-38c1a6d732ad",
   "metadata": {},
   "outputs": [],
   "source": [
    "X, y = load_iris(return_X_y=True)"
   ]
  },
  {
   "cell_type": "code",
   "execution_count": 291,
   "id": "60df7abd-7d82-4a8e-8ec7-69b8c4229fa1",
   "metadata": {},
   "outputs": [
    {
     "data": {
      "text/plain": [
       "((150, 4), (150,))"
      ]
     },
     "execution_count": 291,
     "metadata": {},
     "output_type": "execute_result"
    }
   ],
   "source": [
    "X.shape, y.shape"
   ]
  },
  {
   "cell_type": "code",
   "execution_count": 292,
   "id": "d0ded985-48d5-4474-81dc-8c6ecd6bdf3e",
   "metadata": {},
   "outputs": [],
   "source": [
    "X_train, X_test, y_train, y_test = train_test_split(\n",
    "    X,\n",
    "    y,\n",
    "    train_size=0.8,\n",
    "    random_state=13\n",
    ")"
   ]
  },
  {
   "cell_type": "code",
   "execution_count": 293,
   "id": "b3e94024-ceb5-4eb4-8c22-b060776b6825",
   "metadata": {},
   "outputs": [],
   "source": [
    "ALPHA = 4"
   ]
  },
  {
   "cell_type": "code",
   "execution_count": 301,
   "id": "2eacfafc-9580-4c52-a311-32dc8c7a0237",
   "metadata": {},
   "outputs": [],
   "source": [
    "l2_sk = Ridge(alpha=ALPHA)\n",
    "l2_me = RidgeRegression(alpha=ALPHA, l2_norm_intercept=False)"
   ]
  },
  {
   "cell_type": "code",
   "execution_count": 302,
   "id": "6a5beed1-3b06-40fd-8e0d-afcb7aea0e3e",
   "metadata": {},
   "outputs": [
    {
     "data": {
      "text/plain": [
       "<__main__.RidgeRegression at 0x72760ce6f370>"
      ]
     },
     "execution_count": 302,
     "metadata": {},
     "output_type": "execute_result"
    }
   ],
   "source": [
    "l2_sk.fit(X_train, y_train)\n",
    "l2_me.fit(X_train, y_train)"
   ]
  },
  {
   "cell_type": "code",
   "execution_count": 303,
   "id": "7b662a4d-99fa-4366-bceb-6f44f1ed3664",
   "metadata": {},
   "outputs": [
    {
     "data": {
      "text/plain": [
       "(0.9114876338267471, np.float64(0.9114876338267462))"
      ]
     },
     "execution_count": 303,
     "metadata": {},
     "output_type": "execute_result"
    }
   ],
   "source": [
    "l2_sk.score(X_test, y_test), l2_me.score(X_test, y_test)"
   ]
  },
  {
   "cell_type": "code",
   "execution_count": null,
   "id": "cda3e08e-1335-4b77-a1e8-f02a3de9e0a6",
   "metadata": {},
   "outputs": [],
   "source": []
  }
 ],
 "metadata": {
  "kernelspec": {
   "display_name": "ML-venv",
   "language": "python",
   "name": "ml-venv"
  },
  "language_info": {
   "codemirror_mode": {
    "name": "ipython",
    "version": 3
   },
   "file_extension": ".py",
   "mimetype": "text/x-python",
   "name": "python",
   "nbconvert_exporter": "python",
   "pygments_lexer": "ipython3",
   "version": "3.10.12"
  }
 },
 "nbformat": 4,
 "nbformat_minor": 5
}
