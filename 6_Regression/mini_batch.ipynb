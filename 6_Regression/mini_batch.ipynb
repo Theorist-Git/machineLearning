{
 "cells": [
  {
   "cell_type": "code",
   "execution_count": 1,
   "id": "b2401fb6-0607-4f70-90a3-ebe0fc4f22ee",
   "metadata": {},
   "outputs": [],
   "source": [
    "import numpy as np\n",
    "from sklearn.datasets import load_diabetes"
   ]
  },
  {
   "cell_type": "code",
   "execution_count": 2,
   "id": "cd6ab019-8fd5-44ef-8764-3b60fb69639f",
   "metadata": {},
   "outputs": [],
   "source": [
    "X, y = load_diabetes(return_X_y=True)"
   ]
  },
  {
   "cell_type": "code",
   "execution_count": 3,
   "id": "f64cfc47-e26c-47d9-bbd7-6fef13cf8985",
   "metadata": {},
   "outputs": [],
   "source": [
    "from sklearn.model_selection import train_test_split\n",
    "\n",
    "X_train, X_test, y_train, y_test = train_test_split(\n",
    "    X,\n",
    "    y,\n",
    "    train_size=0.8,\n",
    "    random_state=42\n",
    ")"
   ]
  },
  {
   "cell_type": "code",
   "execution_count": 10,
   "id": "34c85c8c-df0d-487b-ba94-b0d69c745711",
   "metadata": {},
   "outputs": [],
   "source": [
    "import numpy as np\n",
    "\n",
    "class miniGDRegressor:\n",
    "    \n",
    "    def __init__(self, learning_rate: float = 0.01, iterations: int = 1000):\n",
    "        self.slope_                 = None\n",
    "        self.intercept_             = None\n",
    "        self.learning_rate          = learning_rate\n",
    "        self.iterations             = iterations\n",
    "\n",
    "    def fit(self, X_train: np.array, y_train: np.array) -> None:\n",
    "        BETA =  np.zeros(shape=(X_train.shape[1] + 1, 1))\n",
    "        \n",
    "        X_train = np.insert(X_train, obj=0, values=1, axis=1)\n",
    "        y_train = np.reshape(y_train, shape=(X_train.shape[0], 1))\n",
    "        \n",
    "        n_samples = X_train.shape[0]\n",
    "        batch_size = 32\n",
    "\n",
    "        for epoch in range(self.iterations):\n",
    "            indices = np.random.permutation(n_samples)\n",
    "            \n",
    "            for i in range(0, n_samples, batch_size):\n",
    "                batch_idx = indices[i:i + batch_size]\n",
    "                xi = X_train[batch_idx]\n",
    "                yi = y_train[batch_idx] \n",
    "\n",
    "                der_BETA = np.dot(xi.T, (np.dot(xi, BETA) - yi)) / batch_size\n",
    "                \n",
    "                BETA -= self.learning_rate * der_BETA\n",
    "        \n",
    "        self.intercept_ = BETA[0]\n",
    "        self.slope_     = BETA[1: ]\n",
    "            \n",
    "    \n",
    "    def predict(self, X_test: np.array) -> np.array:\n",
    "        \n",
    "        if self.slope_ is None or self.intercept_ is None:\n",
    "            raise ValueError(\"Model is not trained yet. Call 'fit' first.\")\n",
    "            \n",
    "        return np.dot(X_test, self.slope_) + self.intercept_\n",
    "\n",
    "    def score(self, X_test, y_test, method: str = None) -> np.float64:\n",
    "        y_pred = self.predict(X_test)\n",
    "        ss_total = np.sum((y_test - np.mean(y_test)) ** 2)\n",
    "        ss_residual = np.sum((y_test - y_pred.ravel()) ** 2)\n",
    "\n",
    "        R2 = 1 - (ss_residual / ss_total)\n",
    "        n, k = X_test.shape\n",
    "\n",
    "        if method == \"adj\":\n",
    "            return 1 - ( (1 - R2) * (n - 1) / (n - 1 - k) )\n",
    "\n",
    "        return 1 - (ss_residual / ss_total)"
   ]
  },
  {
   "cell_type": "code",
   "execution_count": 17,
   "id": "d975af26-f8fe-46fd-800c-36336b968b8b",
   "metadata": {},
   "outputs": [],
   "source": [
    "lr = miniGDRegressor(learning_rate=0.1,)"
   ]
  },
  {
   "cell_type": "code",
   "execution_count": 18,
   "id": "8c11da78-850b-4d9c-8747-aed982cf2bbf",
   "metadata": {},
   "outputs": [],
   "source": [
    "lr.fit(X_train, y_train)"
   ]
  },
  {
   "cell_type": "code",
   "execution_count": 19,
   "id": "958e9cc4-771e-4f4a-89ec-f3917bb56bb4",
   "metadata": {},
   "outputs": [
    {
     "data": {
      "text/plain": [
       "np.float64(0.4590482775572031)"
      ]
     },
     "execution_count": 19,
     "metadata": {},
     "output_type": "execute_result"
    }
   ],
   "source": [
    "y_pred = lr.predict(X_test)\n",
    "y_pred\n",
    "\n",
    "lr.score(X_test, y_test)"
   ]
  },
  {
   "cell_type": "code",
   "execution_count": null,
   "id": "7712a2e9-48be-4868-8e4b-4a163430d221",
   "metadata": {},
   "outputs": [],
   "source": []
  }
 ],
 "metadata": {
  "kernelspec": {
   "display_name": "ML-venv",
   "language": "python",
   "name": "ml-venv"
  },
  "language_info": {
   "codemirror_mode": {
    "name": "ipython",
    "version": 3
   },
   "file_extension": ".py",
   "mimetype": "text/x-python",
   "name": "python",
   "nbconvert_exporter": "python",
   "pygments_lexer": "ipython3",
   "version": "3.10.12"
  }
 },
 "nbformat": 4,
 "nbformat_minor": 5
}
