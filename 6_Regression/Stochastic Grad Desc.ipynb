{
 "cells": [
  {
   "cell_type": "code",
   "execution_count": 1,
   "id": "25113e5e-147a-4646-aff9-1ba6e1ad909f",
   "metadata": {},
   "outputs": [],
   "source": [
    "import numpy as np\n",
    "from sklearn.datasets import load_diabetes"
   ]
  },
  {
   "cell_type": "code",
   "execution_count": 2,
   "id": "ce1bc317-9d23-4795-b872-a787168332ca",
   "metadata": {},
   "outputs": [],
   "source": [
    "X, y = load_diabetes(return_X_y=True)"
   ]
  },
  {
   "cell_type": "code",
   "execution_count": 3,
   "id": "c628d69c-83b9-419c-b473-763e501a097a",
   "metadata": {},
   "outputs": [],
   "source": [
    "from sklearn.model_selection import train_test_split\n",
    "\n",
    "X_train, X_test, y_train, y_test = train_test_split(\n",
    "    X,\n",
    "    y,\n",
    "    train_size=0.8,\n",
    "    random_state=42\n",
    ")"
   ]
  },
  {
   "cell_type": "code",
   "execution_count": 29,
   "id": "d588918b-ab8c-4f74-9670-3b61a5f3e228",
   "metadata": {},
   "outputs": [
    {
     "data": {
      "text/plain": [
       "1059"
      ]
     },
     "execution_count": 29,
     "metadata": {},
     "output_type": "execute_result"
    }
   ],
   "source": [
    "X_train.shape[0] * 3"
   ]
  },
  {
   "cell_type": "code",
   "execution_count": 17,
   "id": "c1a8b4b3-e666-41ab-864e-e9dbd87c6b48",
   "metadata": {},
   "outputs": [],
   "source": [
    "import numpy as np\n",
    "\n",
    "class SGDRegressor:\n",
    "    \n",
    "    def __init__(self, learning_rate: float = 0.01, iterations: int = 1000):\n",
    "        self.slope_                 = None\n",
    "        self.intercept_             = None\n",
    "        self.learning_rate          = learning_rate\n",
    "        self.iterations             = iterations\n",
    "\n",
    "    def fit(self, X_train: np.array, y_train: np.array) -> None:\n",
    "        BETA =  np.zeros(shape=(X_train.shape[1] + 1, 1))\n",
    "        \n",
    "        X_train = np.insert(X_train, obj=0, values=1, axis=1)\n",
    "        y_train = np.reshape(y_train, shape=(X_train.shape[0], 1))\n",
    "        \n",
    "        n_samples = X_train.shape[0]\n",
    "\n",
    "        for epoch in range(self.iterations):\n",
    "            indices = np.arange(n_samples)\n",
    "            np.random.shuffle(indices)\n",
    "            \n",
    "            for i in indices:\n",
    "                xi = X_train[i:i+1, :]   \n",
    "                yi = y_train[i:i+1, :]   \n",
    "\n",
    "                der_BETA = np.dot(xi.T, (np.dot(xi, BETA) - yi)) / 1\n",
    "                \n",
    "                BETA -= self.learning_rate * der_BETA\n",
    "        \n",
    "        self.intercept_ = BETA[0]\n",
    "        self.slope_     = BETA[1: ]\n",
    "            \n",
    "    \n",
    "    def predict(self, X_test: np.array) -> np.array:\n",
    "        \n",
    "        if self.slope_ is None or self.intercept_ is None:\n",
    "            raise ValueError(\"Model is not trained yet. Call 'fit' first.\")\n",
    "            \n",
    "        return np.dot(X_test, self.slope_) + self.intercept_\n",
    "\n",
    "    def score(self, X_test, y_test, method: str = None) -> np.float64:\n",
    "        y_pred = self.predict(X_test)\n",
    "        ss_total = np.sum((y_test - np.mean(y_test)) ** 2)\n",
    "        ss_residual = np.sum((y_test - y_pred.ravel()) ** 2)\n",
    "\n",
    "        R2 = 1 - (ss_residual / ss_total)\n",
    "        n, k = X_test.shape\n",
    "\n",
    "        if method == \"adj\":\n",
    "            return 1 - ( (1 - R2) * (n - 1) / (n - 1 - k) )\n",
    "\n",
    "        return 1 - (ss_residual / ss_total)"
   ]
  },
  {
   "cell_type": "code",
   "execution_count": 45,
   "id": "06222817-984c-449b-849f-54c5acc28bc0",
   "metadata": {},
   "outputs": [],
   "source": [
    "mlr = SGDRegressor(learning_rate=0.1, iterations=20)"
   ]
  },
  {
   "cell_type": "code",
   "execution_count": 46,
   "id": "a230ef0e-2e4c-4e32-8dd2-1c718e866204",
   "metadata": {},
   "outputs": [],
   "source": [
    "mlr.fit(X_train, y_train)"
   ]
  },
  {
   "cell_type": "code",
   "execution_count": 47,
   "id": "0200e0ab-349a-47a3-a2f7-d30de325ddf9",
   "metadata": {},
   "outputs": [
    {
     "data": {
      "text/plain": [
       "np.float64(0.4419810198007883)"
      ]
     },
     "execution_count": 47,
     "metadata": {},
     "output_type": "execute_result"
    }
   ],
   "source": [
    "y_pred = mlr.predict(X_test)\n",
    "y_pred\n",
    "\n",
    "mlr.score(X_test, y_test)"
   ]
  },
  {
   "cell_type": "code",
   "execution_count": null,
   "id": "74e4910c-5198-45f5-91e1-be90cde0223e",
   "metadata": {},
   "outputs": [],
   "source": []
  }
 ],
 "metadata": {
  "kernelspec": {
   "display_name": "ML-venv",
   "language": "python",
   "name": "ml-venv"
  },
  "language_info": {
   "codemirror_mode": {
    "name": "ipython",
    "version": 3
   },
   "file_extension": ".py",
   "mimetype": "text/x-python",
   "name": "python",
   "nbconvert_exporter": "python",
   "pygments_lexer": "ipython3",
   "version": "3.10.12"
  }
 },
 "nbformat": 4,
 "nbformat_minor": 5
}
